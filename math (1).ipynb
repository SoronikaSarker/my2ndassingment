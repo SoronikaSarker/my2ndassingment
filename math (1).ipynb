{
 "cells": [
  {
   "cell_type": "code",
   "execution_count": null,
   "metadata": {},
   "outputs": [],
   "source": [
    "#Write a function called rectangle that takes two integers m and n as arguments and prints out an m × n box consisting of asterisks\n",
    "\n",
    "print(\"Enter width\")\n",
    "width = int(input())\n",
    "print(\"Enter height\")\n",
    "height = int(input())\n",
    "\n",
    "for i in range(height):\n",
    "    if i in[0]:\n",
    "        print(\"* \"*(width))\n",
    "    else if i in[(height-1)]:\n",
    "        print(\"* \"*(width))\n",
    "    else:\n",
    "        print(\"*\"+\"  \"*(width-2)+\" *\")\n",
    "\n",
    "input()\n",
    "  \n",
    "\n"
   ]
  },
  {
   "cell_type": "code",
   "execution_count": null,
   "metadata": {},
   "outputs": [],
   "source": [
    "#The digital root of a number n is obtained as follows: Add up the digits n to get a new number. Add up the digits of that to get another new number. Keep doing this until you get a number that has only one digit. That number is the digital root. \n",
    "import math  \n",
    "   \n",
    "\n",
    "num = input(\"Enter your number: \")\n",
    "print(num, \"\\n\")\n",
    "\n",
    "def droot(num):\n",
    "    if len(num) == 1:\n",
    "        return num\n",
    "    else:\n",
    "        sum = 0\n",
    "        for i in num:\n",
    "            sum += int(i)\n",
    "        num = str(sum)\n",
    "        return droot(num)\n",
    "        \n",
    "print(\"The digital root of \", num, \" is: \", droot(num))"
   ]
  },
  {
   "cell_type": "code",
   "execution_count": null,
   "metadata": {},
   "outputs": [],
   "source": [
    "#Write a function that takes an integer n and returns a random integer with exactly n digits. \n",
    "from random import randint\n",
    "\n",
    "def random_with_N_digits(n):\n",
    "    range_start = 10**(n-1)\n",
    "    range_end = (10**n)-1\n",
    "    return randint(range_start, range_end)\n",
    "\n",
    "print random_with_N_digits(2)\n",
    "print random_with_N_digits(3)\n",
    "print random_with_N_digits(4)"
   ]
  },
  {
   "cell_type": "code",
   "execution_count": null,
   "metadata": {},
   "outputs": [],
   "source": [
    "#Write a function called primes that is given a number n and returns a list of the first n primes.\n",
    "def list_of_primes(n):\n",
    "    primes = []\n",
    "    for y in range (2, n):\n",
    "        for z in range(2, y):\n",
    "            if y % z == 0:\n",
    "                break\n",
    "        else:\n",
    "            primes.append(y)\n",
    "    primes.sort()\n",
    "    return primes\n",
    "\n",
    "list_of_primes(100)"
   ]
  },
  {
   "cell_type": "code",
   "execution_count": null,
   "metadata": {},
   "outputs": [],
   "source": []
  }
 ],
 "metadata": {
  "kernelspec": {
   "display_name": "Python 2",
   "language": "python",
   "name": "python2"
  },
  "language_info": {
   "codemirror_mode": {
    "name": "ipython",
    "version": 2
   },
   "file_extension": ".py",
   "mimetype": "text/x-python",
   "name": "python",
   "nbconvert_exporter": "python",
   "pygments_lexer": "ipython2",
   "version": "2.7.15"
  }
 },
 "nbformat": 4,
 "nbformat_minor": 2
}
